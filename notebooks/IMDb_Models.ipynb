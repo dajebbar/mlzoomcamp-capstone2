{
  "nbformat": 4,
  "nbformat_minor": 0,
  "metadata": {
    "colab": {
      "provenance": []
    },
    "kernelspec": {
      "name": "python3",
      "display_name": "Python 3"
    },
    "language_info": {
      "name": "python"
    },
    "accelerator": "GPU",
    "gpuClass": "standard"
  },
  "cells": [
    {
      "cell_type": "markdown",
      "source": [
        "# Import Libraries"
      ],
      "metadata": {
        "id": "fHOtuSpT-b6Q"
      }
    },
    {
      "cell_type": "code",
      "execution_count": null,
      "metadata": {
        "id": "TSI04QNg-Q5N"
      },
      "outputs": [],
      "source": [
        "import numpy as np\n",
        "import pandas as pd\n",
        "import matplotlib.pyplot as plt\n",
        "from sklearn.feature_extraction.text import (\n",
        "    CountVectorizer,\n",
        "    TfidfVectorizer\n",
        ")\n",
        "from sklearn.preprocessing import LabelBinarizer\n",
        "from sklearn.dummy import DummyClassifier\n",
        "from sklearn.linear_model import LogisticRegression\n",
        "from sklearn.svm import LinearSVC\n",
        "from sklearn.naive_bayes import (\n",
        "    GaussianNB, \n",
        "    MultinomialNB\n",
        ")\n",
        "import xgboost as xgb\n",
        "from sklearn.ensemble import (\n",
        "    RandomForestClassifier,\n",
        "    GradientBoostingClassifier,\n",
        "    HistGradientBoostingClassifier\n",
        ")\n",
        "from sklearn.tree import DecisionTreeClassifier\n",
        "from sklearn.model_selection import (\n",
        "    train_test_split,\n",
        "    StratifiedKFold, \n",
        "    cross_validate\n",
        ")\n",
        "from sklearn.metrics import (\n",
        "    accuracy_score, \n",
        "    mean_squared_error\n",
        ")\n",
        "from warnings import filterwarnings\n",
        "\n",
        "\n",
        "filterwarnings('ignore')\n",
        "plt.style.use('fivethirtyeight')"
      ]
    },
    {
      "cell_type": "markdown",
      "source": [
        "# Importing Cleaned Data"
      ],
      "metadata": {
        "id": "ZNCUJsMvC19X"
      }
    },
    {
      "cell_type": "code",
      "source": [
        "imdb_df=pd.read_csv('./clean_imdb.csv')\n",
        "\n",
        "print(imdb_df.shape)\n",
        "imdb_df.sample(10)"
      ],
      "metadata": {
        "colab": {
          "base_uri": "https://localhost:8080/",
          "height": 380
        },
        "id": "b3V8lk84COdX",
        "outputId": "eebb8342-69d6-480f-c712-0f299f5bfbcd"
      },
      "execution_count": null,
      "outputs": [
        {
          "output_type": "stream",
          "name": "stdout",
          "text": [
            "(49582, 2)\n"
          ]
        },
        {
          "output_type": "execute_result",
          "data": {
            "text/plain": [
              "                                                  review  sentiment\n",
              "19282  film great well written entertaining david duc...          1\n",
              "22712  movie better expected think deserved r rating ...          1\n",
              "23489  caught part george tv recently get watch end a...          0\n",
              "45765  id like say film good touching film explains r...          1\n",
              "5217   friz freleng speedy gonzalez second cartoon fe...          0\n",
              "2989   watched movie tcm last night excited expectati...          1\n",
              "27520  shortage female flesh still interesting lenzi ...          0\n",
              "16177  think include spoiler cover butt last american...          1\n",
              "4836   agreeable french movie deal millionaire owner ...          1\n",
              "22251  another many nearly forgotten movie cranked po...          0"
            ],
            "text/html": [
              "\n",
              "  <div id=\"df-dcdf7d4c-b19c-48eb-b289-766565b75731\">\n",
              "    <div class=\"colab-df-container\">\n",
              "      <div>\n",
              "<style scoped>\n",
              "    .dataframe tbody tr th:only-of-type {\n",
              "        vertical-align: middle;\n",
              "    }\n",
              "\n",
              "    .dataframe tbody tr th {\n",
              "        vertical-align: top;\n",
              "    }\n",
              "\n",
              "    .dataframe thead th {\n",
              "        text-align: right;\n",
              "    }\n",
              "</style>\n",
              "<table border=\"1\" class=\"dataframe\">\n",
              "  <thead>\n",
              "    <tr style=\"text-align: right;\">\n",
              "      <th></th>\n",
              "      <th>review</th>\n",
              "      <th>sentiment</th>\n",
              "    </tr>\n",
              "  </thead>\n",
              "  <tbody>\n",
              "    <tr>\n",
              "      <th>19282</th>\n",
              "      <td>film great well written entertaining david duc...</td>\n",
              "      <td>1</td>\n",
              "    </tr>\n",
              "    <tr>\n",
              "      <th>22712</th>\n",
              "      <td>movie better expected think deserved r rating ...</td>\n",
              "      <td>1</td>\n",
              "    </tr>\n",
              "    <tr>\n",
              "      <th>23489</th>\n",
              "      <td>caught part george tv recently get watch end a...</td>\n",
              "      <td>0</td>\n",
              "    </tr>\n",
              "    <tr>\n",
              "      <th>45765</th>\n",
              "      <td>id like say film good touching film explains r...</td>\n",
              "      <td>1</td>\n",
              "    </tr>\n",
              "    <tr>\n",
              "      <th>5217</th>\n",
              "      <td>friz freleng speedy gonzalez second cartoon fe...</td>\n",
              "      <td>0</td>\n",
              "    </tr>\n",
              "    <tr>\n",
              "      <th>2989</th>\n",
              "      <td>watched movie tcm last night excited expectati...</td>\n",
              "      <td>1</td>\n",
              "    </tr>\n",
              "    <tr>\n",
              "      <th>27520</th>\n",
              "      <td>shortage female flesh still interesting lenzi ...</td>\n",
              "      <td>0</td>\n",
              "    </tr>\n",
              "    <tr>\n",
              "      <th>16177</th>\n",
              "      <td>think include spoiler cover butt last american...</td>\n",
              "      <td>1</td>\n",
              "    </tr>\n",
              "    <tr>\n",
              "      <th>4836</th>\n",
              "      <td>agreeable french movie deal millionaire owner ...</td>\n",
              "      <td>1</td>\n",
              "    </tr>\n",
              "    <tr>\n",
              "      <th>22251</th>\n",
              "      <td>another many nearly forgotten movie cranked po...</td>\n",
              "      <td>0</td>\n",
              "    </tr>\n",
              "  </tbody>\n",
              "</table>\n",
              "</div>\n",
              "      <button class=\"colab-df-convert\" onclick=\"convertToInteractive('df-dcdf7d4c-b19c-48eb-b289-766565b75731')\"\n",
              "              title=\"Convert this dataframe to an interactive table.\"\n",
              "              style=\"display:none;\">\n",
              "        \n",
              "  <svg xmlns=\"http://www.w3.org/2000/svg\" height=\"24px\"viewBox=\"0 0 24 24\"\n",
              "       width=\"24px\">\n",
              "    <path d=\"M0 0h24v24H0V0z\" fill=\"none\"/>\n",
              "    <path d=\"M18.56 5.44l.94 2.06.94-2.06 2.06-.94-2.06-.94-.94-2.06-.94 2.06-2.06.94zm-11 1L8.5 8.5l.94-2.06 2.06-.94-2.06-.94L8.5 2.5l-.94 2.06-2.06.94zm10 10l.94 2.06.94-2.06 2.06-.94-2.06-.94-.94-2.06-.94 2.06-2.06.94z\"/><path d=\"M17.41 7.96l-1.37-1.37c-.4-.4-.92-.59-1.43-.59-.52 0-1.04.2-1.43.59L10.3 9.45l-7.72 7.72c-.78.78-.78 2.05 0 2.83L4 21.41c.39.39.9.59 1.41.59.51 0 1.02-.2 1.41-.59l7.78-7.78 2.81-2.81c.8-.78.8-2.07 0-2.86zM5.41 20L4 18.59l7.72-7.72 1.47 1.35L5.41 20z\"/>\n",
              "  </svg>\n",
              "      </button>\n",
              "      \n",
              "  <style>\n",
              "    .colab-df-container {\n",
              "      display:flex;\n",
              "      flex-wrap:wrap;\n",
              "      gap: 12px;\n",
              "    }\n",
              "\n",
              "    .colab-df-convert {\n",
              "      background-color: #E8F0FE;\n",
              "      border: none;\n",
              "      border-radius: 50%;\n",
              "      cursor: pointer;\n",
              "      display: none;\n",
              "      fill: #1967D2;\n",
              "      height: 32px;\n",
              "      padding: 0 0 0 0;\n",
              "      width: 32px;\n",
              "    }\n",
              "\n",
              "    .colab-df-convert:hover {\n",
              "      background-color: #E2EBFA;\n",
              "      box-shadow: 0px 1px 2px rgba(60, 64, 67, 0.3), 0px 1px 3px 1px rgba(60, 64, 67, 0.15);\n",
              "      fill: #174EA6;\n",
              "    }\n",
              "\n",
              "    [theme=dark] .colab-df-convert {\n",
              "      background-color: #3B4455;\n",
              "      fill: #D2E3FC;\n",
              "    }\n",
              "\n",
              "    [theme=dark] .colab-df-convert:hover {\n",
              "      background-color: #434B5C;\n",
              "      box-shadow: 0px 1px 3px 1px rgba(0, 0, 0, 0.15);\n",
              "      filter: drop-shadow(0px 1px 2px rgba(0, 0, 0, 0.3));\n",
              "      fill: #FFFFFF;\n",
              "    }\n",
              "  </style>\n",
              "\n",
              "      <script>\n",
              "        const buttonEl =\n",
              "          document.querySelector('#df-dcdf7d4c-b19c-48eb-b289-766565b75731 button.colab-df-convert');\n",
              "        buttonEl.style.display =\n",
              "          google.colab.kernel.accessAllowed ? 'block' : 'none';\n",
              "\n",
              "        async function convertToInteractive(key) {\n",
              "          const element = document.querySelector('#df-dcdf7d4c-b19c-48eb-b289-766565b75731');\n",
              "          const dataTable =\n",
              "            await google.colab.kernel.invokeFunction('convertToInteractive',\n",
              "                                                     [key], {});\n",
              "          if (!dataTable) return;\n",
              "\n",
              "          const docLinkHtml = 'Like what you see? Visit the ' +\n",
              "            '<a target=\"_blank\" href=https://colab.research.google.com/notebooks/data_table.ipynb>data table notebook</a>'\n",
              "            + ' to learn more about interactive tables.';\n",
              "          element.innerHTML = '';\n",
              "          dataTable['output_type'] = 'display_data';\n",
              "          await google.colab.output.renderOutput(dataTable, element);\n",
              "          const docLink = document.createElement('div');\n",
              "          docLink.innerHTML = docLinkHtml;\n",
              "          element.appendChild(docLink);\n",
              "        }\n",
              "      </script>\n",
              "    </div>\n",
              "  </div>\n",
              "  "
            ]
          },
          "metadata": {},
          "execution_count": 5
        }
      ]
    },
    {
      "cell_type": "code",
      "source": [
        "data, target = imdb_df[\"review\"], imdb_df[\"sentiment\"]"
      ],
      "metadata": {
        "id": "IRo_cuXCB6IT"
      },
      "execution_count": null,
      "outputs": []
    },
    {
      "cell_type": "markdown",
      "source": [
        "# Data Vectorizing"
      ],
      "metadata": {
        "id": "D7WsdPekC_SD"
      }
    },
    {
      "cell_type": "code",
      "source": [
        "%%time\n",
        "\n",
        "tfidf_vect = TfidfVectorizer(max_features=1000, ngram_range=(1,3)) \n",
        "data_tfidf = tfidf_vect.fit_transform(data).toarray()\n",
        "\n",
        "data_tfidf.shape"
      ],
      "metadata": {
        "colab": {
          "base_uri": "https://localhost:8080/"
        },
        "id": "9uI_gnzlDCA7",
        "outputId": "20ae2a0e-607d-4d0f-b9e4-b76f00ede090"
      },
      "execution_count": null,
      "outputs": [
        {
          "output_type": "stream",
          "name": "stdout",
          "text": [
            "CPU times: user 51.2 s, sys: 1.96 s, total: 53.2 s\n",
            "Wall time: 53.3 s\n"
          ]
        },
        {
          "output_type": "execute_result",
          "data": {
            "text/plain": [
              "(49582, 1000)"
            ]
          },
          "metadata": {},
          "execution_count": 7
        }
      ]
    },
    {
      "cell_type": "markdown",
      "source": [
        "# Splitting data"
      ],
      "metadata": {
        "id": "Rq_5i55SDdhW"
      }
    },
    {
      "cell_type": "code",
      "source": [
        "X_train, X_test, y_train, y_test = train_test_split(\n",
        "    data_tfidf, \n",
        "    target, \n",
        "    test_size=0.20, \n",
        "    random_state=42\n",
        ")\n",
        "\n",
        "X_train.shape, y_train.shape, X_test.shape, y_test.shape"
      ],
      "metadata": {
        "colab": {
          "base_uri": "https://localhost:8080/"
        },
        "id": "ZIK5drLrDgdB",
        "outputId": "83c1f8b7-dc1d-4f9f-954a-0282bfc54222"
      },
      "execution_count": null,
      "outputs": [
        {
          "output_type": "execute_result",
          "data": {
            "text/plain": [
              "((39665, 1000), (39665,), (9917, 1000), (9917,))"
            ]
          },
          "metadata": {},
          "execution_count": 8
        }
      ]
    },
    {
      "cell_type": "markdown",
      "source": [
        "# Various Models"
      ],
      "metadata": {
        "id": "BPa_EWPWD9D1"
      }
    },
    {
      "cell_type": "code",
      "source": [
        "%%time\n",
        "\n",
        "models = [\n",
        "    DummyClassifier,\n",
        "    LogisticRegression,\n",
        "    LinearSVC,\n",
        "    GaussianNB,\n",
        "    MultinomialNB,\n",
        "    RandomForestClassifier,\n",
        "    GradientBoostingClassifier,\n",
        "    HistGradientBoostingClassifier,\n",
        "    xgb.XGBClassifier,\n",
        "]\n",
        "\n",
        "for model in models:\n",
        "  if model == LinearSVC:\n",
        "    cls = model(penalty='l2', loss='hinge')\n",
        "  else:\n",
        "    cls = model()\n",
        "\n",
        "  cv = StratifiedKFold(n_splits=10, shuffle=True, random_state=42)\n",
        "  cv_results = cross_validate(\n",
        "      cls,\n",
        "      data_tfidf,\n",
        "      target,\n",
        "      cv=cv,\n",
        "      scoring='accuracy',\n",
        "      error_score='raise',\n",
        "      n_jobs = -1\n",
        "  )\n",
        "  print(f\"{model.__name__:22} AUC: \"\n",
        "        f\"{cv_results['test_score'].mean():.3f} STD: {cv_results['test_score'].std():.3f}\"\n",
        "  )"
      ],
      "metadata": {
        "id": "Rux5aWEgD--1",
        "colab": {
          "base_uri": "https://localhost:8080/"
        },
        "outputId": "18e2deac-97b6-4881-8d13-4efbcc2a0cae"
      },
      "execution_count": null,
      "outputs": [
        {
          "output_type": "stream",
          "name": "stdout",
          "text": [
            "DummyClassifier        AUC: 0.502 STD: 0.000\n",
            "LogisticRegression     AUC: 0.863 STD: 0.005\n",
            "LinearSVC              AUC: 0.863 STD: 0.004\n",
            "GaussianNB             AUC: 0.816 STD: 0.004\n",
            "MultinomialNB          AUC: 0.837 STD: 0.003\n",
            "RandomForestClassifier AUC: 0.831 STD: 0.004\n",
            "GradientBoostingClassifier AUC: 0.809 STD: 0.002\n",
            "HistGradientBoostingClassifier AUC: 0.845 STD: 0.005\n",
            "XGBClassifier          AUC: 0.807 STD: 0.003\n",
            "CPU times: user 30.6 s, sys: 6.1 s, total: 36.8 s\n",
            "Wall time: 1h 17min 58s\n"
          ]
        }
      ]
    },
    {
      "cell_type": "markdown",
      "source": [
        "# Model Optimization"
      ],
      "metadata": {
        "id": "qdTNSVzskF7z"
      }
    },
    {
      "cell_type": "code",
      "source": [
        "!pip install optuna --quiet"
      ],
      "metadata": {
        "colab": {
          "base_uri": "https://localhost:8080/"
        },
        "id": "Ajyv0xgOkIwO",
        "outputId": "e8c4154b-019a-41ea-cb87-51d11be032a7"
      },
      "execution_count": null,
      "outputs": [
        {
          "output_type": "stream",
          "name": "stdout",
          "text": [
            "\u001b[2K     \u001b[90m━━━━━━━━━━━━━━━━━━━━━━━━━━━━━━━━━━━━━━━\u001b[0m \u001b[32m365.3/365.3 KB\u001b[0m \u001b[31m7.7 MB/s\u001b[0m eta \u001b[36m0:00:00\u001b[0m\n",
            "\u001b[2K     \u001b[90m━━━━━━━━━━━━━━━━━━━━━━━━━━━━━━━━━━━━━━\u001b[0m \u001b[32m210.6/210.6 KB\u001b[0m \u001b[31m17.7 MB/s\u001b[0m eta \u001b[36m0:00:00\u001b[0m\n",
            "\u001b[2K     \u001b[90m━━━━━━━━━━━━━━━━━━━━━━━━━━━━━━━━━━━━━━━━\u001b[0m \u001b[32m78.7/78.7 KB\u001b[0m \u001b[31m7.5 MB/s\u001b[0m eta \u001b[36m0:00:00\u001b[0m\n",
            "\u001b[?25h"
          ]
        }
      ]
    },
    {
      "cell_type": "code",
      "source": [
        "import optuna\n",
        "from sklearn.model_selection import cross_val_score"
      ],
      "metadata": {
        "id": "-M4d-5mTkPVl"
      },
      "execution_count": null,
      "outputs": []
    },
    {
      "cell_type": "code",
      "source": [
        "def objective(trial):\n",
        "    classifier_name = trial.suggest_categorical(\n",
        "        \"classifier\", \n",
        "        [\"logit\", \"linsvc\", \"multinb\", \"hist\", \"xgb\"])\n",
        "    \n",
        "    if classifier_name == \"logit\":\n",
        "        logit_penalty = trial.suggest_categorical('logit_penalty', ['l1','l2'])\n",
        "        logit_c = trial.suggest_float('logit_c', 0.001, 10)\n",
        "        logit_solver = 'saga'\n",
        "        \n",
        "        model = LogisticRegression(\n",
        "            penalty=logit_penalty,\n",
        "            C=logit_c,\n",
        "            solver=logit_solver,\n",
        "        )\n",
        "\n",
        "    elif classifier_name == \"linsvc\":\n",
        "      svc_penalty = trial.suggest_categorical('svc_penalty', ['l1','l2'])\n",
        "      svc_loss = trial.suggest_categorical('svc_loss', ['hinge','squared_hinge'])\n",
        "\n",
        "      model = LinearSVC(\n",
        "          penalty=svc_penalty,\n",
        "          loss=svc_loss\n",
        "      )\n",
        "    \n",
        "    elif classifier_name == \"multinb\":\n",
        "      alpha = trial.suggest_float('alpha', 1, 10)\n",
        "\n",
        "      model = MultinomialNB(alpha=alpha)\n",
        "  \n",
        "    elif classifier_name == \"hist\":\n",
        "        hist_learning_rate = trial.suggest_float(\"hist_learning_rate\", 0.01, 1)\n",
        "        hist_max_iter = trial.suggest_int(\"hist_max_iter\", 100, 1000)\n",
        "        hist_max_leaf_nodes = trial.suggest_int(\"hist_max_leaf_nodes\", 10, 150)\n",
        "\n",
        "        model = HistGradientBoostingClassifier(\n",
        "            learning_rate=hist_learning_rate,\n",
        "            max_iter=hist_max_iter,\n",
        "            max_leaf_nodes=hist_max_leaf_nodes\n",
        "        )\n",
        "    \n",
        "    elif classifier_name == \"xgb\":\n",
        "        xgb_eta = trial.suggest_float(\"xgb_eta\", 0.01, 1)\n",
        "        xgb_max_depth = trial.suggest_int(\"xgb_max_depth\", 1, 15)\n",
        "        xgb_min_child_weight = trial.suggest_int(\"xgb_min_child_weight\", 1, 15)\n",
        "        model = xgb.XGBClassifier(\n",
        "            eta=xgb_eta,\n",
        "            max_depth=xgb_max_depth,\n",
        "            min_child_weight=xgb_min_child_weight,\n",
        "        )\n",
        "\n",
        "    kf= StratifiedKFold(n_splits=5, shuffle=True, random_state=42)\n",
        "\n",
        "    score = cross_val_score(\n",
        "        model,\n",
        "        data_tfidf,\n",
        "        target,\n",
        "        cv=kf,\n",
        "        scoring=\"accuracy\",\n",
        "        n_jobs=-1\n",
        "    )\n",
        "\n",
        "    acc = score.mean()\n",
        "\n",
        "    return acc"
      ],
      "metadata": {
        "id": "0knUNTnakO4Y"
      },
      "execution_count": null,
      "outputs": []
    },
    {
      "cell_type": "code",
      "source": [
        "%%time\n",
        "\n",
        "study = optuna.create_study(\n",
        "    direction=\"maximize\",\n",
        "    sampler=optuna.samplers.CmaEsSampler()\n",
        ")\n",
        "\n",
        "study.optimize(objective, n_trials=10)\n",
        "\n",
        "print(\"Cma-Es Sample\")\n",
        "print(f\"ES best params: {study.best_params}\")\n",
        "print(f\"ES best score: {study.best_value}\")\n",
        "print()\n",
        "result = study.trials_dataframe()\n",
        "print(result[\"params_classifier\"].value_counts())\n",
        "res = result.groupby([\"params_classifier\"])[\"value\"].agg([\"mean\", \"std\"])\n",
        "print(res)"
      ],
      "metadata": {
        "colab": {
          "base_uri": "https://localhost:8080/"
        },
        "id": "_XU7EL4ykOrF",
        "outputId": "43b0b7f2-76a2-40ec-aad5-137e6bcbc5bf"
      },
      "execution_count": null,
      "outputs": [
        {
          "output_type": "stream",
          "name": "stderr",
          "text": [
            "\u001b[32m[I 2023-01-18 16:20:14,024]\u001b[0m A new study created in memory with name: no-name-af55f0c2-26b1-43f2-9fb9-0a34619494f1\u001b[0m\n",
            "\u001b[32m[I 2023-01-18 16:20:16,038]\u001b[0m Trial 0 finished with value: 0.8364123902452476 and parameters: {'classifier': 'multinb', 'alpha': 4.629094201591809}. Best is trial 0 with value: 0.8364123902452476.\u001b[0m\n",
            "\u001b[32m[I 2023-01-18 16:20:16,041]\u001b[0m `CmaEsSampler` only supports two or more dimensional continuous search space. `RandomSampler` is used instead of `CmaEsSampler`.\u001b[0m\n",
            "\u001b[32m[I 2023-01-18 16:20:19,849]\u001b[0m Trial 1 finished with value: 0.8617844934253214 and parameters: {'classifier': 'linsvc', 'svc_penalty': 'l2', 'svc_loss': 'hinge'}. Best is trial 1 with value: 0.8617844934253214.\u001b[0m\n",
            "\u001b[32m[I 2023-01-18 16:20:21,692]\u001b[0m Trial 2 finished with value: 0.8364325861081017 and parameters: {'classifier': 'multinb', 'alpha': 9.9732665140822}. Best is trial 1 with value: 0.8617844934253214.\u001b[0m\n",
            "\u001b[32m[I 2023-01-18 16:20:25,529]\u001b[0m Trial 3 finished with value: 0.8618248302378072 and parameters: {'classifier': 'linsvc', 'svc_penalty': 'l2', 'svc_loss': 'hinge'}. Best is trial 3 with value: 0.8618248302378072.\u001b[0m\n",
            "\u001b[32m[I 2023-01-18 16:20:31,117]\u001b[0m Trial 4 finished with value: 0.8624097496107567 and parameters: {'classifier': 'linsvc', 'svc_penalty': 'l2', 'svc_loss': 'squared_hinge'}. Best is trial 4 with value: 0.8624097496107567.\u001b[0m\n",
            "\u001b[32m[I 2023-01-18 16:33:51,762]\u001b[0m Trial 5 finished with value: 0.8301803679698414 and parameters: {'classifier': 'xgb', 'xgb_eta': 0.07908606753702445, 'xgb_max_depth': 7, 'xgb_min_child_weight': 2}. Best is trial 4 with value: 0.8624097496107567.\u001b[0m\n",
            "\u001b[32m[I 2023-01-18 16:38:24,496]\u001b[0m Trial 6 finished with value: 0.7908111244263247 and parameters: {'classifier': 'xgb', 'xgb_eta': 0.42370199687192234, 'xgb_max_depth': 2, 'xgb_min_child_weight': 9}. Best is trial 4 with value: 0.8624097496107567.\u001b[0m\n",
            "\u001b[32m[I 2023-01-18 16:38:32,166]\u001b[0m Trial 7 finished with value: 0.8624097496107567 and parameters: {'classifier': 'linsvc', 'svc_penalty': 'l2', 'svc_loss': 'squared_hinge'}. Best is trial 4 with value: 0.8624097496107567.\u001b[0m\n",
            "\u001b[32m[I 2023-01-18 17:03:07,514]\u001b[0m Trial 8 finished with value: 0.8402243502067565 and parameters: {'classifier': 'xgb', 'xgb_eta': 0.3014779843355966, 'xgb_max_depth': 13, 'xgb_min_child_weight': 2}. Best is trial 4 with value: 0.8624097496107567.\u001b[0m\n",
            "\u001b[32m[I 2023-01-18 17:03:14,169]\u001b[0m Trial 9 finished with value: 0.8624097496107567 and parameters: {'classifier': 'linsvc', 'svc_penalty': 'l2', 'svc_loss': 'squared_hinge'}. Best is trial 4 with value: 0.8624097496107567.\u001b[0m\n"
          ]
        },
        {
          "output_type": "stream",
          "name": "stdout",
          "text": [
            "Cma-Es Sample\n",
            "ES best params: {'classifier': 'linsvc', 'svc_penalty': 'l2', 'svc_loss': 'squared_hinge'}\n",
            "ES best score: 0.8624097496107567\n",
            "\n",
            "linsvc     5\n",
            "xgb        3\n",
            "multinb    2\n",
            "Name: params_classifier, dtype: int64\n",
            "                       mean       std\n",
            "params_classifier                    \n",
            "linsvc             0.862168  0.000332\n",
            "multinb            0.836422  0.000014\n",
            "xgb                0.820405  0.026117\n",
            "CPU times: user 17.8 s, sys: 4.63 s, total: 22.4 s\n",
            "Wall time: 43min\n"
          ]
        }
      ]
    },
    {
      "cell_type": "code",
      "source": [
        "fig = plt.figure(figsize=(12, 5), dpi=90)\n",
        "result['value'].sort_values().reset_index(drop=True).plot()\n",
        "plt.title('Convergence plot')\n",
        "plt.xlabel('Iteration')\n",
        "plt.ylabel('Accuracy')\n",
        "plt.show()"
      ],
      "metadata": {
        "colab": {
          "base_uri": "https://localhost:8080/",
          "height": 473
        },
        "id": "Hhu4TbcokOUZ",
        "outputId": "62fefd57-ad95-4220-b8b0-acfa3a2c6d5b"
      },
      "execution_count": null,
      "outputs": [
        {
          "output_type": "display_data",
          "data": {
            "text/plain": [
              "<Figure size 1080x450 with 1 Axes>"
            ],
            "image/png": "[encoded data removed]"
          },
          "metadata": {}
        }
      ]
    },
    {
      "cell_type": "code",
      "source": [
        "fig.savefig('linear_svc_acc.png',bbox_inches='tight')"
      ],
      "metadata": {
        "id": "g8vv9den1tHd"
      },
      "execution_count": null,
      "outputs": []
    },
    {
      "cell_type": "markdown",
      "source": [
        "# Fitting the model"
      ],
      "metadata": {
        "id": "X9WTLRNB2duU"
      }
    },
    {
      "cell_type": "code",
      "source": [
        "# {'classifier': 'linsvc', 'svc_penalty': 'l2', 'svc_loss': 'squared_hinge'}\n",
        "model = LinearSVC(\n",
        "          penalty='l2',\n",
        "          loss='squared_hinge'\n",
        "      )\n",
        "\n",
        "model.fit(X_train, y_train)"
      ],
      "metadata": {
        "colab": {
          "base_uri": "https://localhost:8080/"
        },
        "id": "Tqzndf8D2Ffk",
        "outputId": "fbe16d20-5029-4f1e-d85b-303ae3209239"
      },
      "execution_count": null,
      "outputs": [
        {
          "output_type": "execute_result",
          "data": {
            "text/plain": [
              "LinearSVC()"
            ]
          },
          "metadata": {},
          "execution_count": 20
        }
      ]
    },
    {
      "cell_type": "markdown",
      "source": [
        "# Evaluate Model"
      ],
      "metadata": {
        "id": "C1mSLwml3HaU"
      }
    },
    {
      "cell_type": "code",
      "source": [
        "y_preds = model.predict(X_test)\n",
        "acc = accuracy_score(y_test, y_preds)\n",
        "rmse = mean_squared_error(y_test, y_preds)\n",
        "print(f\"Accuracy : {100*acc: .3f}\")\n",
        "print(f\"RMSE : {rmse: .3f}\")"
      ],
      "metadata": {
        "colab": {
          "base_uri": "https://localhost:8080/"
        },
        "id": "x90dcf-83Glh",
        "outputId": "49155a72-ead2-4f2f-a243-6911320b3637"
      },
      "execution_count": null,
      "outputs": [
        {
          "output_type": "stream",
          "name": "stdout",
          "text": [
            "Accuracy :  86.064\n",
            "RMSE :  0.139\n"
          ]
        }
      ]
    },
    {
      "cell_type": "markdown",
      "source": [
        "# CNN Model"
      ],
      "metadata": {
        "id": "Fc6MZ0mN4xTh"
      }
    },
    {
      "cell_type": "code",
      "source": [
        "from tensorflow.keras.models import Sequential\n",
        "from tensorflow.keras.layers import Dense\n",
        "from tensorflow.keras.layers import Dropout"
      ],
      "metadata": {
        "id": "SJABR2RD3GZL"
      },
      "execution_count": null,
      "outputs": []
    },
    {
      "cell_type": "code",
      "source": [
        "X_train"
      ],
      "metadata": {
        "colab": {
          "base_uri": "https://localhost:8080/"
        },
        "id": "-nRgKr-g-cVh",
        "outputId": "2cf8891a-3751-402d-b3d4-30fb684e1c70"
      },
      "execution_count": null,
      "outputs": [
        {
          "output_type": "execute_result",
          "data": {
            "text/plain": [
              "array([[0.        , 0.        , 0.1956833 , ..., 0.        , 0.        ,\n",
              "        0.        ],\n",
              "       [0.        , 0.        , 0.05125188, ..., 0.        , 0.        ,\n",
              "        0.        ],\n",
              "       [0.        , 0.        , 0.        , ..., 0.        , 0.        ,\n",
              "        0.        ],\n",
              "       ...,\n",
              "       [0.        , 0.0809842 , 0.        , ..., 0.        , 0.        ,\n",
              "        0.        ],\n",
              "       [0.1501642 , 0.        , 0.        , ..., 0.        , 0.10018625,\n",
              "        0.        ],\n",
              "       [0.        , 0.        , 0.        , ..., 0.        , 0.        ,\n",
              "        0.        ]])"
            ]
          },
          "metadata": {},
          "execution_count": 9
        }
      ]
    },
    {
      "cell_type": "code",
      "source": [
        "model = Sequential()\n",
        "\n",
        "model.add(Dense(16, activation='relu', input_shape=(1000,)))\n",
        "model.add(Dense(16, activation='relu'))\n",
        "model.add(Dropout(0.2))\n",
        "model.add(Dense(1, activation='sigmoid'))\n",
        "\n",
        "model.summary()"
      ],
      "metadata": {
        "colab": {
          "base_uri": "https://localhost:8080/"
        },
        "id": "NTvB6v005nit",
        "outputId": "c697fb8a-5c2a-40f3-fce8-0b8387ce8222"
      },
      "execution_count": null,
      "outputs": [
        {
          "output_type": "stream",
          "name": "stdout",
          "text": [
            "Model: \"sequential_1\"\n",
            "_________________________________________________________________\n",
            " Layer (type)                Output Shape              Param #   \n",
            "=================================================================\n",
            " dense_3 (Dense)             (None, 16)                16016     \n",
            "                                                                 \n",
            " dense_4 (Dense)             (None, 16)                272       \n",
            "                                                                 \n",
            " dropout_1 (Dropout)         (None, 16)                0         \n",
            "                                                                 \n",
            " dense_5 (Dense)             (None, 1)                 17        \n",
            "                                                                 \n",
            "=================================================================\n",
            "Total params: 16,305\n",
            "Trainable params: 16,305\n",
            "Non-trainable params: 0\n",
            "_________________________________________________________________\n"
          ]
        }
      ]
    },
    {
      "cell_type": "code",
      "source": [
        "model.compile(\n",
        "    optimizer='adam', \n",
        "    loss='binary_crossentropy',\n",
        "    metrics=['accuracy','mean_squared_error']\n",
        ")"
      ],
      "metadata": {
        "id": "N1nrhFoU5nXH"
      },
      "execution_count": null,
      "outputs": []
    },
    {
      "cell_type": "code",
      "source": [
        "history = model.fit(\n",
        "    X_train, \n",
        "    y_train, \n",
        "    batch_size=256, \n",
        "    validation_data=(X_test, y_test), \n",
        "    epochs=5,\n",
        "    verbose=1\n",
        ")"
      ],
      "metadata": {
        "colab": {
          "base_uri": "https://localhost:8080/"
        },
        "id": "sFc_5z7A5nLG",
        "outputId": "7064d4d3-93ab-4778-f299-9eccf2a7e386"
      },
      "execution_count": null,
      "outputs": [
        {
          "output_type": "stream",
          "name": "stdout",
          "text": [
            "Epoch 1/5\n",
            "155/155 [==============================] - 1s 5ms/step - loss: 0.1755 - accuracy: 0.9149 - mean_squared_error: 0.0547 - val_loss: 0.4692 - val_accuracy: 0.8474 - val_mean_squared_error: 0.1174\n",
            "Epoch 2/5\n",
            "155/155 [==============================] - 1s 4ms/step - loss: 0.1719 - accuracy: 0.9180 - mean_squared_error: 0.0537 - val_loss: 0.4709 - val_accuracy: 0.8444 - val_mean_squared_error: 0.1178\n",
            "Epoch 3/5\n",
            "155/155 [==============================] - 1s 5ms/step - loss: 0.1683 - accuracy: 0.9186 - mean_squared_error: 0.0527 - val_loss: 0.4848 - val_accuracy: 0.8455 - val_mean_squared_error: 0.1186\n",
            "Epoch 4/5\n",
            "155/155 [==============================] - 1s 4ms/step - loss: 0.1643 - accuracy: 0.9205 - mean_squared_error: 0.0514 - val_loss: 0.4860 - val_accuracy: 0.8431 - val_mean_squared_error: 0.1194\n",
            "Epoch 5/5\n",
            "155/155 [==============================] - 1s 4ms/step - loss: 0.1615 - accuracy: 0.9218 - mean_squared_error: 0.0505 - val_loss: 0.5088 - val_accuracy: 0.8436 - val_mean_squared_error: 0.1203\n"
          ]
        }
      ]
    },
    {
      "cell_type": "code",
      "source": [
        "df_model = pd.DataFrame(history.history)\n",
        "df_model.head()"
      ],
      "metadata": {
        "colab": {
          "base_uri": "https://localhost:8080/",
          "height": 206
        },
        "id": "Vxg5VOrJ7ELH",
        "outputId": "e00a557b-4171-415a-8cd0-8122bdf0c6f2"
      },
      "execution_count": null,
      "outputs": [
        {
          "output_type": "execute_result",
          "data": {
            "text/plain": [
              "       loss  accuracy  mean_squared_error  val_loss  val_accuracy  \\\n",
              "0  0.175485  0.914912            0.054725  0.469236      0.847434   \n",
              "1  0.171936  0.917988            0.053694  0.470931      0.844409   \n",
              "2  0.168330  0.918593            0.052679  0.484773      0.845518   \n",
              "3  0.164328  0.920484            0.051422  0.485961      0.843098   \n",
              "4  0.161496  0.921770            0.050482  0.508835      0.843602   \n",
              "\n",
              "   val_mean_squared_error  \n",
              "0                0.117373  \n",
              "1                0.117844  \n",
              "2                0.118562  \n",
              "3                0.119366  \n",
              "4                0.120337  "
            ],
            "text/html": [
              "\n",
              "  <div id=\"df-749f60ae-6fb3-49f9-9b93-0da7d8d7850a\">\n",
              "    <div class=\"colab-df-container\">\n",
              "      <div>\n",
              "<style scoped>\n",
              "    .dataframe tbody tr th:only-of-type {\n",
              "        vertical-align: middle;\n",
              "    }\n",
              "\n",
              "    .dataframe tbody tr th {\n",
              "        vertical-align: top;\n",
              "    }\n",
              "\n",
              "    .dataframe thead th {\n",
              "        text-align: right;\n",
              "    }\n",
              "</style>\n",
              "<table border=\"1\" class=\"dataframe\">\n",
              "  <thead>\n",
              "    <tr style=\"text-align: right;\">\n",
              "      <th></th>\n",
              "      <th>loss</th>\n",
              "      <th>accuracy</th>\n",
              "      <th>mean_squared_error</th>\n",
              "      <th>val_loss</th>\n",
              "      <th>val_accuracy</th>\n",
              "      <th>val_mean_squared_error</th>\n",
              "    </tr>\n",
              "  </thead>\n",
              "  <tbody>\n",
              "    <tr>\n",
              "      <th>0</th>\n",
              "      <td>0.175485</td>\n",
              "      <td>0.914912</td>\n",
              "      <td>0.054725</td>\n",
              "      <td>0.469236</td>\n",
              "      <td>0.847434</td>\n",
              "      <td>0.117373</td>\n",
              "    </tr>\n",
              "    <tr>\n",
              "      <th>1</th>\n",
              "      <td>0.171936</td>\n",
              "      <td>0.917988</td>\n",
              "      <td>0.053694</td>\n",
              "      <td>0.470931</td>\n",
              "      <td>0.844409</td>\n",
              "      <td>0.117844</td>\n",
              "    </tr>\n",
              "    <tr>\n",
              "      <th>2</th>\n",
              "      <td>0.168330</td>\n",
              "      <td>0.918593</td>\n",
              "      <td>0.052679</td>\n",
              "      <td>0.484773</td>\n",
              "      <td>0.845518</td>\n",
              "      <td>0.118562</td>\n",
              "    </tr>\n",
              "    <tr>\n",
              "      <th>3</th>\n",
              "      <td>0.164328</td>\n",
              "      <td>0.920484</td>\n",
              "      <td>0.051422</td>\n",
              "      <td>0.485961</td>\n",
              "      <td>0.843098</td>\n",
              "      <td>0.119366</td>\n",
              "    </tr>\n",
              "    <tr>\n",
              "      <th>4</th>\n",
              "      <td>0.161496</td>\n",
              "      <td>0.921770</td>\n",
              "      <td>0.050482</td>\n",
              "      <td>0.508835</td>\n",
              "      <td>0.843602</td>\n",
              "      <td>0.120337</td>\n",
              "    </tr>\n",
              "  </tbody>\n",
              "</table>\n",
              "</div>\n",
              "      <button class=\"colab-df-convert\" onclick=\"convertToInteractive('df-749f60ae-6fb3-49f9-9b93-0da7d8d7850a')\"\n",
              "              title=\"Convert this dataframe to an interactive table.\"\n",
              "              style=\"display:none;\">\n",
              "        \n",
              "  <svg xmlns=\"http://www.w3.org/2000/svg\" height=\"24px\"viewBox=\"0 0 24 24\"\n",
              "       width=\"24px\">\n",
              "    <path d=\"M0 0h24v24H0V0z\" fill=\"none\"/>\n",
              "    <path d=\"M18.56 5.44l.94 2.06.94-2.06 2.06-.94-2.06-.94-.94-2.06-.94 2.06-2.06.94zm-11 1L8.5 8.5l.94-2.06 2.06-.94-2.06-.94L8.5 2.5l-.94 2.06-2.06.94zm10 10l.94 2.06.94-2.06 2.06-.94-2.06-.94-.94-2.06-.94 2.06-2.06.94z\"/><path d=\"M17.41 7.96l-1.37-1.37c-.4-.4-.92-.59-1.43-.59-.52 0-1.04.2-1.43.59L10.3 9.45l-7.72 7.72c-.78.78-.78 2.05 0 2.83L4 21.41c.39.39.9.59 1.41.59.51 0 1.02-.2 1.41-.59l7.78-7.78 2.81-2.81c.8-.78.8-2.07 0-2.86zM5.41 20L4 18.59l7.72-7.72 1.47 1.35L5.41 20z\"/>\n",
              "  </svg>\n",
              "      </button>\n",
              "      \n",
              "  <style>\n",
              "    .colab-df-container {\n",
              "      display:flex;\n",
              "      flex-wrap:wrap;\n",
              "      gap: 12px;\n",
              "    }\n",
              "\n",
              "    .colab-df-convert {\n",
              "      background-color: #E8F0FE;\n",
              "      border: none;\n",
              "      border-radius: 50%;\n",
              "      cursor: pointer;\n",
              "      display: none;\n",
              "      fill: #1967D2;\n",
              "      height: 32px;\n",
              "      padding: 0 0 0 0;\n",
              "      width: 32px;\n",
              "    }\n",
              "\n",
              "    .colab-df-convert:hover {\n",
              "      background-color: #E2EBFA;\n",
              "      box-shadow: 0px 1px 2px rgba(60, 64, 67, 0.3), 0px 1px 3px 1px rgba(60, 64, 67, 0.15);\n",
              "      fill: #174EA6;\n",
              "    }\n",
              "\n",
              "    [theme=dark] .colab-df-convert {\n",
              "      background-color: #3B4455;\n",
              "      fill: #D2E3FC;\n",
              "    }\n",
              "\n",
              "    [theme=dark] .colab-df-convert:hover {\n",
              "      background-color: #434B5C;\n",
              "      box-shadow: 0px 1px 3px 1px rgba(0, 0, 0, 0.15);\n",
              "      filter: drop-shadow(0px 1px 2px rgba(0, 0, 0, 0.3));\n",
              "      fill: #FFFFFF;\n",
              "    }\n",
              "  </style>\n",
              "\n",
              "      <script>\n",
              "        const buttonEl =\n",
              "          document.querySelector('#df-749f60ae-6fb3-49f9-9b93-0da7d8d7850a button.colab-df-convert');\n",
              "        buttonEl.style.display =\n",
              "          google.colab.kernel.accessAllowed ? 'block' : 'none';\n",
              "\n",
              "        async function convertToInteractive(key) {\n",
              "          const element = document.querySelector('#df-749f60ae-6fb3-49f9-9b93-0da7d8d7850a');\n",
              "          const dataTable =\n",
              "            await google.colab.kernel.invokeFunction('convertToInteractive',\n",
              "                                                     [key], {});\n",
              "          if (!dataTable) return;\n",
              "\n",
              "          const docLinkHtml = 'Like what you see? Visit the ' +\n",
              "            '<a target=\"_blank\" href=https://colab.research.google.com/notebooks/data_table.ipynb>data table notebook</a>'\n",
              "            + ' to learn more about interactive tables.';\n",
              "          element.innerHTML = '';\n",
              "          dataTable['output_type'] = 'display_data';\n",
              "          await google.colab.output.renderOutput(dataTable, element);\n",
              "          const docLink = document.createElement('div');\n",
              "          docLink.innerHTML = docLinkHtml;\n",
              "          element.appendChild(docLink);\n",
              "        }\n",
              "      </script>\n",
              "    </div>\n",
              "  </div>\n",
              "  "
            ]
          },
          "metadata": {},
          "execution_count": 22
        }
      ]
    },
    {
      "cell_type": "code",
      "source": [
        "plt.figure(figsize=(12, 5))\n",
        "plt.subplot(1, 2, 1)\n",
        "plt.plot(range(len(df_model)), df_model.loss, label=\"train\")\n",
        "plt.plot(range(len(df_model)), df_model.val_loss, label=\"test\")\n",
        "plt.title(\"Loss\")\n",
        "plt.legend()\n",
        "plt.subplot(1, 2, 2)\n",
        "plt.plot(range(len(df_model)), df_model.accuracy, label=\"train\")\n",
        "plt.plot(range(len(df_model)), df_model.val_accuracy, label=\"test\")\n",
        "plt.title(\"accuracy\")\n",
        "plt.legend()\n",
        "plt.show()"
      ],
      "metadata": {
        "colab": {
          "base_uri": "https://localhost:8080/",
          "height": 361
        },
        "id": "Psu4JVi_7D_M",
        "outputId": "b6b39933-a21a-4a03-e175-ffba24063bd8"
      },
      "execution_count": null,
      "outputs": [
        {
          "output_type": "display_data",
          "data": {
            "text/plain": [
              "<Figure size 864x360 with 2 Axes>"
            ],
            "image/png": "[encoded data removed]"
          },
          "metadata": {}
        }
      ]
    },
    {
      "cell_type": "markdown",
      "source": [
        "# LSTM Model"
      ],
      "metadata": {
        "id": "-3YmSl6ogkIN"
      }
    },
    {
      "cell_type": "code",
      "source": [
        "import tensorflow as tf\n",
        "from tensorflow.keras.layers import TextVectorization\n",
        "from tensorflow.keras.models import Sequential\n",
        "from tensorflow.keras.layers import (\n",
        "    LSTM, \n",
        "    Dropout, \n",
        "    Bidirectional, \n",
        "    Dense, \n",
        "    Embedding\n",
        ")\n",
        "\n",
        "\n",
        "X = data\n",
        "y = target.values\n",
        "\n",
        "MAX_FEATURES = 200000\n",
        "MAX_SEQ = 1800\n",
        "\n",
        "vectorizer = TextVectorization(\n",
        "    max_tokens=MAX_FEATURES,\n",
        "    output_sequence_length=MAX_SEQ,\n",
        "    output_mode='int'\n",
        ")\n",
        "\n",
        "vectorizer.adapt(X.values)\n",
        "vectorized_text = vectorizer(X.values)\n",
        "\n",
        "dataset = (\n",
        "    tf.data.Dataset.from_tensor_slices((vectorized_text, y))\n",
        "    .cache()\n",
        "    .shuffle(160000)\n",
        "    .batch(16)\n",
        "    .prefetch(8)\n",
        ")\n",
        "\n",
        "train = dataset.take(int(len(dataset)*.7))\n",
        "val = dataset.skip(int(len(dataset)*.7)).take(int(len(dataset)*.2))\n",
        "test = dataset.skip(int(len(dataset)*.9)).take(int(len(dataset)*.1))"
      ],
      "metadata": {
        "id": "8vDDFR_k63Ky"
      },
      "execution_count": null,
      "outputs": []
    },
    {
      "cell_type": "code",
      "source": [
        "model = Sequential()\n",
        "# Create the embedding layer \n",
        "model.add(Embedding(MAX_FEATURES+1, 32))\n",
        "# Bidirectional LSTM Layer\n",
        "model.add(Bidirectional(LSTM(32, activation='tanh')))\n",
        "# Feature extractor Fully connected layers\n",
        "model.add(Dense(128, activation='relu'))\n",
        "model.add(Dense(256, activation='relu'))\n",
        "model.add(Dense(128, activation='relu'))\n",
        "# Final layer \n",
        "model.add(Dense(1, activation='sigmoid'))\n",
        "\n",
        "model.compile(\n",
        "    optimizer='adam', \n",
        "    loss='binary_crossentropy',\n",
        "    metrics=['accuracy','mean_squared_error']\n",
        ")"
      ],
      "metadata": {
        "id": "mhGgt-y9alWo"
      },
      "execution_count": null,
      "outputs": []
    },
    {
      "cell_type": "code",
      "source": [
        "model.summary()"
      ],
      "metadata": {
        "colab": {
          "base_uri": "https://localhost:8080/"
        },
        "id": "I8D0S-T0a-E1",
        "outputId": "35146d84-60cf-4215-d7fe-7ec24e13a531"
      },
      "execution_count": null,
      "outputs": [
        {
          "output_type": "stream",
          "name": "stdout",
          "text": [
            "Model: \"sequential\"\n",
            "_________________________________________________________________\n",
            " Layer (type)                Output Shape              Param #   \n",
            "=================================================================\n",
            " embedding (Embedding)       (None, None, 32)          6400032   \n",
            "                                                                 \n",
            " bidirectional (Bidirectiona  (None, 64)               16640     \n",
            " l)                                                              \n",
            "                                                                 \n",
            " dense (Dense)               (None, 128)               8320      \n",
            "                                                                 \n",
            " dense_1 (Dense)             (None, 256)               33024     \n",
            "                                                                 \n",
            " dense_2 (Dense)             (None, 128)               32896     \n",
            "                                                                 \n",
            " dense_3 (Dense)             (None, 1)                 129       \n",
            "                                                                 \n",
            "=================================================================\n",
            "Total params: 6,491,041\n",
            "Trainable params: 6,491,041\n",
            "Non-trainable params: 0\n",
            "_________________________________________________________________\n"
          ]
        }
      ]
    },
    {
      "cell_type": "code",
      "source": [
        "history = model.fit(\n",
        "    X_train, \n",
        "    y_train, \n",
        "    batch_size=256, \n",
        "    validation_data=(X_test, y_test), \n",
        "    epochs=100,\n",
        "    verbose=1\n",
        ")"
      ],
      "metadata": {
        "colab": {
          "base_uri": "https://localhost:8080/"
        },
        "id": "l4G_Cub_a6SH",
        "outputId": "2bfd5908-efe6-4220-ac05-dc0932a46735"
      },
      "execution_count": null,
      "outputs": [
        {
          "output_type": "stream",
          "name": "stdout",
          "text": [
            "Epoch 1/100\n",
            "155/155 [==============================] - 13s 80ms/step - loss: 0.6932 - accuracy: 0.5018 - mean_squared_error: 0.2500 - val_loss: 0.6931 - val_accuracy: 0.5021 - val_mean_squared_error: 0.2500\n",
            "Epoch 2/100\n",
            "155/155 [==============================] - 12s 80ms/step - loss: 0.6932 - accuracy: 0.5010 - mean_squared_error: 0.2500 - val_loss: 0.6931 - val_accuracy: 0.5021 - val_mean_squared_error: 0.2500\n",
            "Epoch 3/100\n",
            "155/155 [==============================] - 12s 80ms/step - loss: 0.6932 - accuracy: 0.5018 - mean_squared_error: 0.2500 - val_loss: 0.6931 - val_accuracy: 0.5021 - val_mean_squared_error: 0.2500\n",
            "Epoch 4/100\n",
            "155/155 [==============================] - 12s 80ms/step - loss: 0.6932 - accuracy: 0.4970 - mean_squared_error: 0.2500 - val_loss: 0.6931 - val_accuracy: 0.5021 - val_mean_squared_error: 0.2500\n",
            "Epoch 5/100\n",
            "155/155 [==============================] - 12s 79ms/step - loss: 0.6932 - accuracy: 0.5018 - mean_squared_error: 0.2500 - val_loss: 0.6931 - val_accuracy: 0.5021 - val_mean_squared_error: 0.2500\n",
            "Epoch 6/100\n",
            "155/155 [==============================] - 12s 79ms/step - loss: 0.6932 - accuracy: 0.5018 - mean_squared_error: 0.2500 - val_loss: 0.6931 - val_accuracy: 0.5021 - val_mean_squared_error: 0.2500\n",
            "Epoch 7/100\n",
            "155/155 [==============================] - 16s 104ms/step - loss: 0.6932 - accuracy: 0.4983 - mean_squared_error: 0.2500 - val_loss: 0.6931 - val_accuracy: 0.5021 - val_mean_squared_error: 0.2500\n",
            "Epoch 8/100\n",
            "155/155 [==============================] - 16s 105ms/step - loss: 0.6931 - accuracy: 0.5018 - mean_squared_error: 0.2500 - val_loss: 0.6931 - val_accuracy: 0.5021 - val_mean_squared_error: 0.2500\n",
            "Epoch 9/100\n",
            "155/155 [==============================] - 14s 93ms/step - loss: 0.6932 - accuracy: 0.5018 - mean_squared_error: 0.2500 - val_loss: 0.6931 - val_accuracy: 0.5021 - val_mean_squared_error: 0.2500\n",
            "Epoch 10/100\n",
            "155/155 [==============================] - 14s 90ms/step - loss: 0.6932 - accuracy: 0.5018 - mean_squared_error: 0.2500 - val_loss: 0.6931 - val_accuracy: 0.5021 - val_mean_squared_error: 0.2500\n",
            "Epoch 11/100\n",
            "155/155 [==============================] - 13s 82ms/step - loss: 0.6932 - accuracy: 0.5018 - mean_squared_error: 0.2500 - val_loss: 0.6931 - val_accuracy: 0.5021 - val_mean_squared_error: 0.2500\n",
            "Epoch 12/100\n",
            "155/155 [==============================] - 14s 90ms/step - loss: 0.6932 - accuracy: 0.5018 - mean_squared_error: 0.2500 - val_loss: 0.6931 - val_accuracy: 0.5021 - val_mean_squared_error: 0.2500\n",
            "Epoch 13/100\n",
            "155/155 [==============================] - 14s 87ms/step - loss: 0.6931 - accuracy: 0.5018 - mean_squared_error: 0.2500 - val_loss: 0.6931 - val_accuracy: 0.5021 - val_mean_squared_error: 0.2500\n",
            "Epoch 14/100\n",
            "155/155 [==============================] - 13s 82ms/step - loss: 0.6932 - accuracy: 0.5018 - mean_squared_error: 0.2500 - val_loss: 0.6931 - val_accuracy: 0.5021 - val_mean_squared_error: 0.2500\n",
            "Epoch 15/100\n",
            "155/155 [==============================] - 12s 81ms/step - loss: 0.6932 - accuracy: 0.4974 - mean_squared_error: 0.2500 - val_loss: 0.6931 - val_accuracy: 0.5021 - val_mean_squared_error: 0.2500\n",
            "Epoch 16/100\n",
            "155/155 [==============================] - 13s 85ms/step - loss: 0.6932 - accuracy: 0.5018 - mean_squared_error: 0.2500 - val_loss: 0.6931 - val_accuracy: 0.5021 - val_mean_squared_error: 0.2500\n",
            "Epoch 17/100\n",
            "155/155 [==============================] - 12s 80ms/step - loss: 0.6932 - accuracy: 0.5018 - mean_squared_error: 0.2500 - val_loss: 0.6931 - val_accuracy: 0.5021 - val_mean_squared_error: 0.2500\n",
            "Epoch 18/100\n",
            "155/155 [==============================] - 12s 80ms/step - loss: 0.6931 - accuracy: 0.5018 - mean_squared_error: 0.2500 - val_loss: 0.6931 - val_accuracy: 0.5021 - val_mean_squared_error: 0.2500\n",
            "Epoch 19/100\n",
            "155/155 [==============================] - 12s 80ms/step - loss: 0.6932 - accuracy: 0.5018 - mean_squared_error: 0.2500 - val_loss: 0.6931 - val_accuracy: 0.5021 - val_mean_squared_error: 0.2500\n",
            "Epoch 20/100\n",
            "155/155 [==============================] - 12s 80ms/step - loss: 0.6932 - accuracy: 0.5018 - mean_squared_error: 0.2500 - val_loss: 0.6931 - val_accuracy: 0.5021 - val_mean_squared_error: 0.2500\n",
            "Epoch 21/100\n",
            "155/155 [==============================] - 14s 92ms/step - loss: 0.6932 - accuracy: 0.5018 - mean_squared_error: 0.2500 - val_loss: 0.6931 - val_accuracy: 0.5021 - val_mean_squared_error: 0.2500\n",
            "Epoch 22/100\n",
            "155/155 [==============================] - 15s 96ms/step - loss: 0.6932 - accuracy: 0.5009 - mean_squared_error: 0.2500 - val_loss: 0.6931 - val_accuracy: 0.5021 - val_mean_squared_error: 0.2500\n",
            "Epoch 23/100\n",
            "155/155 [==============================] - 12s 80ms/step - loss: 0.6932 - accuracy: 0.4998 - mean_squared_error: 0.2500 - val_loss: 0.6931 - val_accuracy: 0.5021 - val_mean_squared_error: 0.2500\n",
            "Epoch 24/100\n",
            "155/155 [==============================] - 12s 80ms/step - loss: 0.6932 - accuracy: 0.5018 - mean_squared_error: 0.2500 - val_loss: 0.6931 - val_accuracy: 0.5021 - val_mean_squared_error: 0.2500\n",
            "Epoch 25/100\n",
            "155/155 [==============================] - 12s 79ms/step - loss: 0.6932 - accuracy: 0.5018 - mean_squared_error: 0.2500 - val_loss: 0.6931 - val_accuracy: 0.5021 - val_mean_squared_error: 0.2500\n",
            "Epoch 26/100\n",
            "155/155 [==============================] - 13s 86ms/step - loss: 0.6932 - accuracy: 0.5018 - mean_squared_error: 0.2500 - val_loss: 0.6931 - val_accuracy: 0.5021 - val_mean_squared_error: 0.2500\n",
            "Epoch 27/100\n",
            "155/155 [==============================] - 12s 80ms/step - loss: 0.6931 - accuracy: 0.5018 - mean_squared_error: 0.2500 - val_loss: 0.6931 - val_accuracy: 0.5021 - val_mean_squared_error: 0.2500\n",
            "Epoch 28/100\n",
            "155/155 [==============================] - 14s 89ms/step - loss: 0.6932 - accuracy: 0.5001 - mean_squared_error: 0.2500 - val_loss: 0.6931 - val_accuracy: 0.5021 - val_mean_squared_error: 0.2500\n",
            "Epoch 29/100\n",
            "155/155 [==============================] - 12s 80ms/step - loss: 0.6932 - accuracy: 0.5018 - mean_squared_error: 0.2500 - val_loss: 0.6931 - val_accuracy: 0.5021 - val_mean_squared_error: 0.2500\n",
            "Epoch 30/100\n",
            "155/155 [==============================] - 12s 80ms/step - loss: 0.6932 - accuracy: 0.5018 - mean_squared_error: 0.2500 - val_loss: 0.6931 - val_accuracy: 0.5021 - val_mean_squared_error: 0.2500\n",
            "Epoch 31/100\n",
            "155/155 [==============================] - 12s 80ms/step - loss: 0.6932 - accuracy: 0.5018 - mean_squared_error: 0.2500 - val_loss: 0.6931 - val_accuracy: 0.5021 - val_mean_squared_error: 0.2500\n",
            "Epoch 32/100\n",
            "155/155 [==============================] - 12s 80ms/step - loss: 0.6931 - accuracy: 0.5018 - mean_squared_error: 0.2500 - val_loss: 0.6931 - val_accuracy: 0.5021 - val_mean_squared_error: 0.2500\n",
            "Epoch 33/100\n",
            "155/155 [==============================] - 12s 80ms/step - loss: 0.6931 - accuracy: 0.5018 - mean_squared_error: 0.2500 - val_loss: 0.6931 - val_accuracy: 0.5021 - val_mean_squared_error: 0.2500\n",
            "Epoch 34/100\n",
            "155/155 [==============================] - 12s 79ms/step - loss: 0.6932 - accuracy: 0.4996 - mean_squared_error: 0.2500 - val_loss: 0.6931 - val_accuracy: 0.5021 - val_mean_squared_error: 0.2500\n",
            "Epoch 35/100\n",
            "155/155 [==============================] - 12s 79ms/step - loss: 0.6931 - accuracy: 0.5018 - mean_squared_error: 0.2500 - val_loss: 0.6931 - val_accuracy: 0.5021 - val_mean_squared_error: 0.2500\n",
            "Epoch 36/100\n",
            "155/155 [==============================] - 12s 80ms/step - loss: 0.6931 - accuracy: 0.5018 - mean_squared_error: 0.2500 - val_loss: 0.6931 - val_accuracy: 0.5021 - val_mean_squared_error: 0.2500\n",
            "Epoch 37/100\n",
            "155/155 [==============================] - 12s 80ms/step - loss: 0.6932 - accuracy: 0.5003 - mean_squared_error: 0.2500 - val_loss: 0.6931 - val_accuracy: 0.5021 - val_mean_squared_error: 0.2500\n",
            "Epoch 38/100\n",
            "155/155 [==============================] - 12s 80ms/step - loss: 0.6932 - accuracy: 0.4980 - mean_squared_error: 0.2500 - val_loss: 0.6931 - val_accuracy: 0.5021 - val_mean_squared_error: 0.2500\n",
            "Epoch 39/100\n",
            "155/155 [==============================] - 12s 80ms/step - loss: 0.6932 - accuracy: 0.5018 - mean_squared_error: 0.2500 - val_loss: 0.6931 - val_accuracy: 0.5021 - val_mean_squared_error: 0.2500\n",
            "Epoch 40/100\n",
            "155/155 [==============================] - 12s 80ms/step - loss: 0.6932 - accuracy: 0.5018 - mean_squared_error: 0.2500 - val_loss: 0.6931 - val_accuracy: 0.5021 - val_mean_squared_error: 0.2500\n",
            "Epoch 41/100\n",
            "155/155 [==============================] - 12s 80ms/step - loss: 0.6932 - accuracy: 0.5018 - mean_squared_error: 0.2500 - val_loss: 0.6931 - val_accuracy: 0.5021 - val_mean_squared_error: 0.2500\n",
            "Epoch 42/100\n",
            "155/155 [==============================] - 12s 80ms/step - loss: 0.6932 - accuracy: 0.5018 - mean_squared_error: 0.2500 - val_loss: 0.6931 - val_accuracy: 0.5021 - val_mean_squared_error: 0.2500\n",
            "Epoch 43/100\n",
            "155/155 [==============================] - 12s 80ms/step - loss: 0.6932 - accuracy: 0.4980 - mean_squared_error: 0.2500 - val_loss: 0.6931 - val_accuracy: 0.5021 - val_mean_squared_error: 0.2500\n",
            "Epoch 44/100\n",
            "155/155 [==============================] - 12s 80ms/step - loss: 0.6932 - accuracy: 0.5018 - mean_squared_error: 0.2500 - val_loss: 0.6931 - val_accuracy: 0.5021 - val_mean_squared_error: 0.2500\n",
            "Epoch 45/100\n",
            "155/155 [==============================] - 12s 80ms/step - loss: 0.6932 - accuracy: 0.5018 - mean_squared_error: 0.2500 - val_loss: 0.6931 - val_accuracy: 0.5021 - val_mean_squared_error: 0.2500\n",
            "Epoch 46/100\n",
            "155/155 [==============================] - 12s 80ms/step - loss: 0.6932 - accuracy: 0.5018 - mean_squared_error: 0.2500 - val_loss: 0.6931 - val_accuracy: 0.5021 - val_mean_squared_error: 0.2500\n",
            "Epoch 47/100\n",
            "155/155 [==============================] - 12s 80ms/step - loss: 0.6931 - accuracy: 0.5018 - mean_squared_error: 0.2500 - val_loss: 0.6931 - val_accuracy: 0.5021 - val_mean_squared_error: 0.2500\n",
            "Epoch 48/100\n",
            "155/155 [==============================] - 12s 80ms/step - loss: 0.6932 - accuracy: 0.5018 - mean_squared_error: 0.2500 - val_loss: 0.6931 - val_accuracy: 0.5021 - val_mean_squared_error: 0.2500\n",
            "Epoch 49/100\n",
            "155/155 [==============================] - 14s 90ms/step - loss: 0.6932 - accuracy: 0.5018 - mean_squared_error: 0.2500 - val_loss: 0.6931 - val_accuracy: 0.5021 - val_mean_squared_error: 0.2500\n",
            "Epoch 50/100\n",
            "155/155 [==============================] - 12s 80ms/step - loss: 0.6932 - accuracy: 0.4976 - mean_squared_error: 0.2500 - val_loss: 0.6931 - val_accuracy: 0.5021 - val_mean_squared_error: 0.2500\n",
            "Epoch 51/100\n",
            "155/155 [==============================] - 12s 80ms/step - loss: 0.6932 - accuracy: 0.5018 - mean_squared_error: 0.2500 - val_loss: 0.6931 - val_accuracy: 0.5021 - val_mean_squared_error: 0.2500\n",
            "Epoch 52/100\n",
            "155/155 [==============================] - 12s 80ms/step - loss: 0.6932 - accuracy: 0.5018 - mean_squared_error: 0.2500 - val_loss: 0.6931 - val_accuracy: 0.5021 - val_mean_squared_error: 0.2500\n",
            "Epoch 53/100\n",
            "155/155 [==============================] - 12s 79ms/step - loss: 0.6932 - accuracy: 0.5018 - mean_squared_error: 0.2500 - val_loss: 0.6931 - val_accuracy: 0.5021 - val_mean_squared_error: 0.2500\n",
            "Epoch 54/100\n",
            "155/155 [==============================] - 12s 79ms/step - loss: 0.6932 - accuracy: 0.5018 - mean_squared_error: 0.2500 - val_loss: 0.6931 - val_accuracy: 0.5021 - val_mean_squared_error: 0.2500\n",
            "Epoch 55/100\n",
            "155/155 [==============================] - 12s 79ms/step - loss: 0.6932 - accuracy: 0.5018 - mean_squared_error: 0.2500 - val_loss: 0.6931 - val_accuracy: 0.5021 - val_mean_squared_error: 0.2500\n",
            "Epoch 56/100\n",
            "155/155 [==============================] - 12s 80ms/step - loss: 0.6932 - accuracy: 0.5018 - mean_squared_error: 0.2500 - val_loss: 0.6931 - val_accuracy: 0.5021 - val_mean_squared_error: 0.2500\n",
            "Epoch 57/100\n",
            "155/155 [==============================] - 12s 80ms/step - loss: 0.6932 - accuracy: 0.5018 - mean_squared_error: 0.2500 - val_loss: 0.6931 - val_accuracy: 0.5021 - val_mean_squared_error: 0.2500\n",
            "Epoch 58/100\n",
            "155/155 [==============================] - 12s 80ms/step - loss: 0.6932 - accuracy: 0.5018 - mean_squared_error: 0.2500 - val_loss: 0.6931 - val_accuracy: 0.5021 - val_mean_squared_error: 0.2500\n",
            "Epoch 59/100\n",
            "155/155 [==============================] - 12s 79ms/step - loss: 0.6932 - accuracy: 0.5018 - mean_squared_error: 0.2500 - val_loss: 0.6931 - val_accuracy: 0.5021 - val_mean_squared_error: 0.2500\n",
            "Epoch 60/100\n",
            "155/155 [==============================] - 12s 80ms/step - loss: 0.6932 - accuracy: 0.4983 - mean_squared_error: 0.2500 - val_loss: 0.6931 - val_accuracy: 0.5021 - val_mean_squared_error: 0.2500\n",
            "Epoch 61/100\n",
            "155/155 [==============================] - 12s 80ms/step - loss: 0.6932 - accuracy: 0.5002 - mean_squared_error: 0.2500 - val_loss: 0.6931 - val_accuracy: 0.5021 - val_mean_squared_error: 0.2500\n",
            "Epoch 62/100\n",
            "155/155 [==============================] - 12s 79ms/step - loss: 0.6932 - accuracy: 0.5018 - mean_squared_error: 0.2500 - val_loss: 0.6931 - val_accuracy: 0.5021 - val_mean_squared_error: 0.2500\n",
            "Epoch 63/100\n",
            "155/155 [==============================] - 12s 79ms/step - loss: 0.6931 - accuracy: 0.5018 - mean_squared_error: 0.2500 - val_loss: 0.6931 - val_accuracy: 0.5021 - val_mean_squared_error: 0.2500\n",
            "Epoch 64/100\n",
            "155/155 [==============================] - 12s 80ms/step - loss: 0.6931 - accuracy: 0.5001 - mean_squared_error: 0.2500 - val_loss: 0.6931 - val_accuracy: 0.5021 - val_mean_squared_error: 0.2500\n",
            "Epoch 65/100\n",
            "155/155 [==============================] - 12s 80ms/step - loss: 0.6931 - accuracy: 0.5018 - mean_squared_error: 0.2500 - val_loss: 0.6931 - val_accuracy: 0.5021 - val_mean_squared_error: 0.2500\n",
            "Epoch 66/100\n",
            "155/155 [==============================] - 12s 80ms/step - loss: 0.6932 - accuracy: 0.4995 - mean_squared_error: 0.2500 - val_loss: 0.6931 - val_accuracy: 0.5021 - val_mean_squared_error: 0.2500\n",
            "Epoch 67/100\n",
            "155/155 [==============================] - 12s 79ms/step - loss: 0.6932 - accuracy: 0.5018 - mean_squared_error: 0.2500 - val_loss: 0.6931 - val_accuracy: 0.5021 - val_mean_squared_error: 0.2500\n",
            "Epoch 68/100\n",
            "155/155 [==============================] - 12s 80ms/step - loss: 0.6932 - accuracy: 0.5018 - mean_squared_error: 0.2500 - val_loss: 0.6931 - val_accuracy: 0.5021 - val_mean_squared_error: 0.2500\n",
            "Epoch 69/100\n",
            "155/155 [==============================] - 14s 89ms/step - loss: 0.6931 - accuracy: 0.5018 - mean_squared_error: 0.2500 - val_loss: 0.6931 - val_accuracy: 0.5021 - val_mean_squared_error: 0.2500\n",
            "Epoch 70/100\n",
            "155/155 [==============================] - 12s 80ms/step - loss: 0.6932 - accuracy: 0.5018 - mean_squared_error: 0.2500 - val_loss: 0.6931 - val_accuracy: 0.5021 - val_mean_squared_error: 0.2500\n",
            "Epoch 71/100\n",
            "155/155 [==============================] - 12s 80ms/step - loss: 0.6932 - accuracy: 0.5018 - mean_squared_error: 0.2500 - val_loss: 0.6931 - val_accuracy: 0.5021 - val_mean_squared_error: 0.2500\n",
            "Epoch 72/100\n",
            "155/155 [==============================] - 12s 80ms/step - loss: 0.6932 - accuracy: 0.5018 - mean_squared_error: 0.2500 - val_loss: 0.6931 - val_accuracy: 0.5021 - val_mean_squared_error: 0.2500\n",
            "Epoch 73/100\n",
            "155/155 [==============================] - 12s 80ms/step - loss: 0.6932 - accuracy: 0.4997 - mean_squared_error: 0.2500 - val_loss: 0.6931 - val_accuracy: 0.5021 - val_mean_squared_error: 0.2500\n",
            "Epoch 74/100\n",
            "155/155 [==============================] - 12s 80ms/step - loss: 0.6932 - accuracy: 0.5018 - mean_squared_error: 0.2500 - val_loss: 0.6931 - val_accuracy: 0.5021 - val_mean_squared_error: 0.2500\n",
            "Epoch 75/100\n",
            "155/155 [==============================] - 12s 80ms/step - loss: 0.6932 - accuracy: 0.5018 - mean_squared_error: 0.2500 - val_loss: 0.6931 - val_accuracy: 0.5021 - val_mean_squared_error: 0.2500\n",
            "Epoch 76/100\n",
            "155/155 [==============================] - 12s 80ms/step - loss: 0.6931 - accuracy: 0.5018 - mean_squared_error: 0.2500 - val_loss: 0.6931 - val_accuracy: 0.5021 - val_mean_squared_error: 0.2500\n",
            "Epoch 77/100\n",
            "155/155 [==============================] - 12s 80ms/step - loss: 0.6932 - accuracy: 0.4995 - mean_squared_error: 0.2500 - val_loss: 0.6931 - val_accuracy: 0.5021 - val_mean_squared_error: 0.2500\n",
            "Epoch 78/100\n",
            "155/155 [==============================] - 12s 80ms/step - loss: 0.6931 - accuracy: 0.5018 - mean_squared_error: 0.2500 - val_loss: 0.6931 - val_accuracy: 0.5021 - val_mean_squared_error: 0.2500\n",
            "Epoch 79/100\n",
            "155/155 [==============================] - 12s 80ms/step - loss: 0.6931 - accuracy: 0.5018 - mean_squared_error: 0.2500 - val_loss: 0.6931 - val_accuracy: 0.5021 - val_mean_squared_error: 0.2500\n",
            "Epoch 80/100\n",
            "155/155 [==============================] - 12s 80ms/step - loss: 0.6932 - accuracy: 0.5018 - mean_squared_error: 0.2500 - val_loss: 0.6931 - val_accuracy: 0.5021 - val_mean_squared_error: 0.2500\n",
            "Epoch 81/100\n",
            "155/155 [==============================] - 12s 80ms/step - loss: 0.6932 - accuracy: 0.4998 - mean_squared_error: 0.2500 - val_loss: 0.6931 - val_accuracy: 0.5021 - val_mean_squared_error: 0.2500\n",
            "Epoch 82/100\n",
            "155/155 [==============================] - 12s 80ms/step - loss: 0.6932 - accuracy: 0.5018 - mean_squared_error: 0.2500 - val_loss: 0.6931 - val_accuracy: 0.5021 - val_mean_squared_error: 0.2500\n",
            "Epoch 83/100\n",
            "155/155 [==============================] - 12s 80ms/step - loss: 0.6932 - accuracy: 0.5018 - mean_squared_error: 0.2500 - val_loss: 0.6931 - val_accuracy: 0.5021 - val_mean_squared_error: 0.2500\n",
            "Epoch 84/100\n",
            "155/155 [==============================] - 12s 80ms/step - loss: 0.6932 - accuracy: 0.5018 - mean_squared_error: 0.2500 - val_loss: 0.6931 - val_accuracy: 0.5021 - val_mean_squared_error: 0.2500\n",
            "Epoch 85/100\n",
            "155/155 [==============================] - 12s 80ms/step - loss: 0.6931 - accuracy: 0.5018 - mean_squared_error: 0.2500 - val_loss: 0.6931 - val_accuracy: 0.5021 - val_mean_squared_error: 0.2500\n",
            "Epoch 86/100\n",
            "155/155 [==============================] - 12s 80ms/step - loss: 0.6932 - accuracy: 0.5005 - mean_squared_error: 0.2500 - val_loss: 0.6931 - val_accuracy: 0.5021 - val_mean_squared_error: 0.2500\n",
            "Epoch 87/100\n",
            "155/155 [==============================] - 12s 81ms/step - loss: 0.6932 - accuracy: 0.5018 - mean_squared_error: 0.2500 - val_loss: 0.6931 - val_accuracy: 0.5021 - val_mean_squared_error: 0.2500\n",
            "Epoch 88/100\n",
            "155/155 [==============================] - 12s 80ms/step - loss: 0.6932 - accuracy: 0.5018 - mean_squared_error: 0.2500 - val_loss: 0.6931 - val_accuracy: 0.5021 - val_mean_squared_error: 0.2500\n",
            "Epoch 89/100\n",
            "155/155 [==============================] - 14s 90ms/step - loss: 0.6931 - accuracy: 0.5018 - mean_squared_error: 0.2500 - val_loss: 0.6931 - val_accuracy: 0.5021 - val_mean_squared_error: 0.2500\n",
            "Epoch 90/100\n",
            "155/155 [==============================] - 12s 81ms/step - loss: 0.6932 - accuracy: 0.4983 - mean_squared_error: 0.2500 - val_loss: 0.6931 - val_accuracy: 0.5021 - val_mean_squared_error: 0.2500\n",
            "Epoch 91/100\n",
            "155/155 [==============================] - 12s 80ms/step - loss: 0.6932 - accuracy: 0.5018 - mean_squared_error: 0.2500 - val_loss: 0.6931 - val_accuracy: 0.5021 - val_mean_squared_error: 0.2500\n",
            "Epoch 92/100\n",
            "155/155 [==============================] - 12s 80ms/step - loss: 0.6932 - accuracy: 0.5018 - mean_squared_error: 0.2500 - val_loss: 0.6931 - val_accuracy: 0.5021 - val_mean_squared_error: 0.2500\n",
            "Epoch 93/100\n",
            "155/155 [==============================] - 12s 80ms/step - loss: 0.6932 - accuracy: 0.5011 - mean_squared_error: 0.2500 - val_loss: 0.6931 - val_accuracy: 0.5021 - val_mean_squared_error: 0.2500\n",
            "Epoch 94/100\n",
            "155/155 [==============================] - 12s 80ms/step - loss: 0.6932 - accuracy: 0.4999 - mean_squared_error: 0.2500 - val_loss: 0.6931 - val_accuracy: 0.5021 - val_mean_squared_error: 0.2500\n",
            "Epoch 95/100\n",
            "155/155 [==============================] - 12s 80ms/step - loss: 0.6932 - accuracy: 0.5018 - mean_squared_error: 0.2500 - val_loss: 0.6931 - val_accuracy: 0.5021 - val_mean_squared_error: 0.2500\n",
            "Epoch 96/100\n",
            "155/155 [==============================] - 12s 80ms/step - loss: 0.6932 - accuracy: 0.4989 - mean_squared_error: 0.2500 - val_loss: 0.6931 - val_accuracy: 0.5021 - val_mean_squared_error: 0.2500\n",
            "Epoch 97/100\n",
            "155/155 [==============================] - 12s 80ms/step - loss: 0.6932 - accuracy: 0.5018 - mean_squared_error: 0.2500 - val_loss: 0.6931 - val_accuracy: 0.5021 - val_mean_squared_error: 0.2500\n",
            "Epoch 98/100\n",
            "155/155 [==============================] - 12s 80ms/step - loss: 0.6932 - accuracy: 0.5018 - mean_squared_error: 0.2500 - val_loss: 0.6931 - val_accuracy: 0.5021 - val_mean_squared_error: 0.2500\n",
            "Epoch 99/100\n",
            "155/155 [==============================] - 12s 80ms/step - loss: 0.6932 - accuracy: 0.5018 - mean_squared_error: 0.2500 - val_loss: 0.6931 - val_accuracy: 0.5021 - val_mean_squared_error: 0.2500\n",
            "Epoch 100/100\n",
            "155/155 [==============================] - 12s 80ms/step - loss: 0.6931 - accuracy: 0.5000 - mean_squared_error: 0.2500 - val_loss: 0.6931 - val_accuracy: 0.5021 - val_mean_squared_error: 0.2500\n"
          ]
        }
      ]
    },
    {
      "cell_type": "code",
      "source": [
        "df_model = pd.DataFrame(history.history)\n",
        "df_model.head()"
      ],
      "metadata": {
        "colab": {
          "base_uri": "https://localhost:8080/",
          "height": 206
        },
        "id": "87P_y_9hcsC6",
        "outputId": "42c4131a-452b-460c-be42-1d9296352ffd"
      },
      "execution_count": null,
      "outputs": [
        {
          "output_type": "execute_result",
          "data": {
            "text/plain": [
              "       loss  accuracy  mean_squared_error  val_loss  val_accuracy  \\\n",
              "0  0.693158  0.501828            0.250006  0.693139      0.502067   \n",
              "1  0.693152  0.500971            0.250002  0.693140      0.502067   \n",
              "2  0.693151  0.501828            0.250002  0.693142      0.502067   \n",
              "3  0.693164  0.497038            0.250008  0.693139      0.502067   \n",
              "4  0.693152  0.501828            0.250003  0.693141      0.502067   \n",
              "\n",
              "   val_mean_squared_error  \n",
              "0                0.249996  \n",
              "1                0.249996  \n",
              "2                0.249997  \n",
              "3                0.249996  \n",
              "4                0.249997  "
            ],
            "text/html": [
              "\n",
              "  <div id=\"df-2f62dc62-5c01-4b91-9159-370a933bbdfd\">\n",
              "    <div class=\"colab-df-container\">\n",
              "      <div>\n",
              "<style scoped>\n",
              "    .dataframe tbody tr th:only-of-type {\n",
              "        vertical-align: middle;\n",
              "    }\n",
              "\n",
              "    .dataframe tbody tr th {\n",
              "        vertical-align: top;\n",
              "    }\n",
              "\n",
              "    .dataframe thead th {\n",
              "        text-align: right;\n",
              "    }\n",
              "</style>\n",
              "<table border=\"1\" class=\"dataframe\">\n",
              "  <thead>\n",
              "    <tr style=\"text-align: right;\">\n",
              "      <th></th>\n",
              "      <th>loss</th>\n",
              "      <th>accuracy</th>\n",
              "      <th>mean_squared_error</th>\n",
              "      <th>val_loss</th>\n",
              "      <th>val_accuracy</th>\n",
              "      <th>val_mean_squared_error</th>\n",
              "    </tr>\n",
              "  </thead>\n",
              "  <tbody>\n",
              "    <tr>\n",
              "      <th>0</th>\n",
              "      <td>0.693158</td>\n",
              "      <td>0.501828</td>\n",
              "      <td>0.250006</td>\n",
              "      <td>0.693139</td>\n",
              "      <td>0.502067</td>\n",
              "      <td>0.249996</td>\n",
              "    </tr>\n",
              "    <tr>\n",
              "      <th>1</th>\n",
              "      <td>0.693152</td>\n",
              "      <td>0.500971</td>\n",
              "      <td>0.250002</td>\n",
              "      <td>0.693140</td>\n",
              "      <td>0.502067</td>\n",
              "      <td>0.249996</td>\n",
              "    </tr>\n",
              "    <tr>\n",
              "      <th>2</th>\n",
              "      <td>0.693151</td>\n",
              "      <td>0.501828</td>\n",
              "      <td>0.250002</td>\n",
              "      <td>0.693142</td>\n",
              "      <td>0.502067</td>\n",
              "      <td>0.249997</td>\n",
              "    </tr>\n",
              "    <tr>\n",
              "      <th>3</th>\n",
              "      <td>0.693164</td>\n",
              "      <td>0.497038</td>\n",
              "      <td>0.250008</td>\n",
              "      <td>0.693139</td>\n",
              "      <td>0.502067</td>\n",
              "      <td>0.249996</td>\n",
              "    </tr>\n",
              "    <tr>\n",
              "      <th>4</th>\n",
              "      <td>0.693152</td>\n",
              "      <td>0.501828</td>\n",
              "      <td>0.250003</td>\n",
              "      <td>0.693141</td>\n",
              "      <td>0.502067</td>\n",
              "      <td>0.249997</td>\n",
              "    </tr>\n",
              "  </tbody>\n",
              "</table>\n",
              "</div>\n",
              "      <button class=\"colab-df-convert\" onclick=\"convertToInteractive('df-2f62dc62-5c01-4b91-9159-370a933bbdfd')\"\n",
              "              title=\"Convert this dataframe to an interactive table.\"\n",
              "              style=\"display:none;\">\n",
              "        \n",
              "  <svg xmlns=\"http://www.w3.org/2000/svg\" height=\"24px\"viewBox=\"0 0 24 24\"\n",
              "       width=\"24px\">\n",
              "    <path d=\"M0 0h24v24H0V0z\" fill=\"none\"/>\n",
              "    <path d=\"M18.56 5.44l.94 2.06.94-2.06 2.06-.94-2.06-.94-.94-2.06-.94 2.06-2.06.94zm-11 1L8.5 8.5l.94-2.06 2.06-.94-2.06-.94L8.5 2.5l-.94 2.06-2.06.94zm10 10l.94 2.06.94-2.06 2.06-.94-2.06-.94-.94-2.06-.94 2.06-2.06.94z\"/><path d=\"M17.41 7.96l-1.37-1.37c-.4-.4-.92-.59-1.43-.59-.52 0-1.04.2-1.43.59L10.3 9.45l-7.72 7.72c-.78.78-.78 2.05 0 2.83L4 21.41c.39.39.9.59 1.41.59.51 0 1.02-.2 1.41-.59l7.78-7.78 2.81-2.81c.8-.78.8-2.07 0-2.86zM5.41 20L4 18.59l7.72-7.72 1.47 1.35L5.41 20z\"/>\n",
              "  </svg>\n",
              "      </button>\n",
              "      \n",
              "  <style>\n",
              "    .colab-df-container {\n",
              "      display:flex;\n",
              "      flex-wrap:wrap;\n",
              "      gap: 12px;\n",
              "    }\n",
              "\n",
              "    .colab-df-convert {\n",
              "      background-color: #E8F0FE;\n",
              "      border: none;\n",
              "      border-radius: 50%;\n",
              "      cursor: pointer;\n",
              "      display: none;\n",
              "      fill: #1967D2;\n",
              "      height: 32px;\n",
              "      padding: 0 0 0 0;\n",
              "      width: 32px;\n",
              "    }\n",
              "\n",
              "    .colab-df-convert:hover {\n",
              "      background-color: #E2EBFA;\n",
              "      box-shadow: 0px 1px 2px rgba(60, 64, 67, 0.3), 0px 1px 3px 1px rgba(60, 64, 67, 0.15);\n",
              "      fill: #174EA6;\n",
              "    }\n",
              "\n",
              "    [theme=dark] .colab-df-convert {\n",
              "      background-color: #3B4455;\n",
              "      fill: #D2E3FC;\n",
              "    }\n",
              "\n",
              "    [theme=dark] .colab-df-convert:hover {\n",
              "      background-color: #434B5C;\n",
              "      box-shadow: 0px 1px 3px 1px rgba(0, 0, 0, 0.15);\n",
              "      filter: drop-shadow(0px 1px 2px rgba(0, 0, 0, 0.3));\n",
              "      fill: #FFFFFF;\n",
              "    }\n",
              "  </style>\n",
              "\n",
              "      <script>\n",
              "        const buttonEl =\n",
              "          document.querySelector('#df-2f62dc62-5c01-4b91-9159-370a933bbdfd button.colab-df-convert');\n",
              "        buttonEl.style.display =\n",
              "          google.colab.kernel.accessAllowed ? 'block' : 'none';\n",
              "\n",
              "        async function convertToInteractive(key) {\n",
              "          const element = document.querySelector('#df-2f62dc62-5c01-4b91-9159-370a933bbdfd');\n",
              "          const dataTable =\n",
              "            await google.colab.kernel.invokeFunction('convertToInteractive',\n",
              "                                                     [key], {});\n",
              "          if (!dataTable) return;\n",
              "\n",
              "          const docLinkHtml = 'Like what you see? Visit the ' +\n",
              "            '<a target=\"_blank\" href=https://colab.research.google.com/notebooks/data_table.ipynb>data table notebook</a>'\n",
              "            + ' to learn more about interactive tables.';\n",
              "          element.innerHTML = '';\n",
              "          dataTable['output_type'] = 'display_data';\n",
              "          await google.colab.output.renderOutput(dataTable, element);\n",
              "          const docLink = document.createElement('div');\n",
              "          docLink.innerHTML = docLinkHtml;\n",
              "          element.appendChild(docLink);\n",
              "        }\n",
              "      </script>\n",
              "    </div>\n",
              "  </div>\n",
              "  "
            ]
          },
          "metadata": {},
          "execution_count": 17
        }
      ]
    },
    {
      "cell_type": "code",
      "source": [
        "plt.figure(figsize=(12, 5))\n",
        "plt.subplot(1, 2, 1)\n",
        "plt.plot(range(len(df_model)), df_model.loss, label=\"train\")\n",
        "plt.plot(range(len(df_model)), df_model.val_loss, label=\"test\")\n",
        "plt.title(\"Loss\")\n",
        "plt.legend()\n",
        "plt.subplot(1, 2, 2)\n",
        "plt.plot(range(len(df_model)), df_model.accuracy, label=\"train\")\n",
        "plt.plot(range(len(df_model)), df_model.val_accuracy, label=\"test\")\n",
        "plt.title(\"accuracy\")\n",
        "plt.legend()\n",
        "plt.show()"
      ],
      "metadata": {
        "colab": {
          "base_uri": "https://localhost:8080/",
          "height": 361
        },
        "id": "3N4v7qY1a6FY",
        "outputId": "db9bee65-a72d-4629-c961-e12a304a303a"
      },
      "execution_count": null,
      "outputs": [
        {
          "output_type": "display_data",
          "data": {
            "text/plain": [
              "<Figure size 864x360 with 2 Axes>"
            ],
            "image/png": "[encoded data removed]"
          },
          "metadata": {}
        }
      ]
    },
    {
      "cell_type": "code",
      "source": [
        "def score_comment(comment):\n",
        "    vectorized_comment = vectorizer([comment])\n",
        "    results = model.predict(vectorized_comment)\n",
        "    \n",
        "    text = ''\n",
        "    for idx, col in enumerate(imdb_df.columns[1]):\n",
        "        text += f'{col}: {results[0][idx]>0.5}\\n'\n",
        "    \n",
        "    return text"
      ],
      "metadata": {
        "id": "za-_AQogdF3Q"
      },
      "execution_count": null,
      "outputs": []
    },
    {
      "cell_type": "code",
      "source": [
        "!pip install gradio --quiet"
      ],
      "metadata": {
        "colab": {
          "base_uri": "https://localhost:8080/"
        },
        "id": "NEzEEFBad1PV",
        "outputId": "1b2e540e-3667-423e-f54e-a362a394e899"
      },
      "execution_count": null,
      "outputs": [
        {
          "output_type": "stream",
          "name": "stdout",
          "text": [
            "\u001b[2K     \u001b[90m━━━━━━━━━━━━━━━━━━━━━━━━━━━━━━━━━━━━━━━━\u001b[0m \u001b[32m14.2/14.2 MB\u001b[0m \u001b[31m86.2 MB/s\u001b[0m eta \u001b[36m0:00:00\u001b[0m\n",
            "\u001b[?25h  Preparing metadata (setup.py) ... \u001b[?25l\u001b[?25hdone\n",
            "\u001b[2K     \u001b[90m━━━━━━━━━━━━━━━━━━━━━━━━━━━━━━━━━━━━━━━━\u001b[0m \u001b[32m56.9/56.9 KB\u001b[0m \u001b[31m7.4 MB/s\u001b[0m eta \u001b[36m0:00:00\u001b[0m\n",
            "\u001b[?25h  Preparing metadata (setup.py) ... \u001b[?25l\u001b[?25hdone\n",
            "\u001b[2K     \u001b[90m━━━━━━━━━━━━━━━━━━━━━━━━━━━━━━━━━━━━━━━━\u001b[0m \u001b[32m55.8/55.8 KB\u001b[0m \u001b[31m7.1 MB/s\u001b[0m eta \u001b[36m0:00:00\u001b[0m\n",
            "\u001b[2K     \u001b[90m━━━━━━━━━━━━━━━━━━━━━━━━━━━━━━━━━━━━━━\u001b[0m \u001b[32m107.0/107.0 KB\u001b[0m \u001b[31m13.6 MB/s\u001b[0m eta \u001b[36m0:00:00\u001b[0m\n",
            "\u001b[2K     \u001b[90m━━━━━━━━━━━━━━━━━━━━━━━━━━━━━━━━━━━━━━━━\u001b[0m \u001b[32m71.5/71.5 KB\u001b[0m \u001b[31m9.5 MB/s\u001b[0m eta \u001b[36m0:00:00\u001b[0m\n",
            "\u001b[2K     \u001b[90m━━━━━━━━━━━━━━━━━━━━━━━━━━━━━━━━━━━━━━━━\u001b[0m \u001b[32m2.3/2.3 MB\u001b[0m \u001b[31m87.3 MB/s\u001b[0m eta \u001b[36m0:00:00\u001b[0m\n",
            "\u001b[2K     \u001b[90m━━━━━━━━━━━━━━━━━━━━━━━━━━━━━━━━━━━━━━\u001b[0m \u001b[32m140.6/140.6 KB\u001b[0m \u001b[31m19.1 MB/s\u001b[0m eta \u001b[36m0:00:00\u001b[0m\n",
            "\u001b[2K     \u001b[90m━━━━━━━━━━━━━━━━━━━━━━━━━━━━━━━━━━━━━━━━\u001b[0m \u001b[32m84.5/84.5 KB\u001b[0m \u001b[31m9.8 MB/s\u001b[0m eta \u001b[36m0:00:00\u001b[0m\n",
            "\u001b[2K     \u001b[90m━━━━━━━━━━━━━━━━━━━━━━━━━━━━━━━━━━━━━━━━\u001b[0m \u001b[32m64.3/64.3 KB\u001b[0m \u001b[31m7.1 MB/s\u001b[0m eta \u001b[36m0:00:00\u001b[0m\n",
            "\u001b[2K     \u001b[90m━━━━━━━━━━━━━━━━━━━━━━━━━━━━━━━━━━━━━━━━\u001b[0m \u001b[32m80.6/80.6 KB\u001b[0m \u001b[31m11.8 MB/s\u001b[0m eta \u001b[36m0:00:00\u001b[0m\n",
            "\u001b[2K     \u001b[90m━━━━━━━━━━━━━━━━━━━━━━━━━━━━━━━━━━━━━━━━\u001b[0m \u001b[32m69.6/69.6 KB\u001b[0m \u001b[31m9.3 MB/s\u001b[0m eta \u001b[36m0:00:00\u001b[0m\n",
            "\u001b[2K     \u001b[90m━━━━━━━━━━━━━━━━━━━━━━━━━━━━━━━━━━━━━━━━\u001b[0m \u001b[32m50.5/50.5 KB\u001b[0m \u001b[31m6.1 MB/s\u001b[0m eta \u001b[36m0:00:00\u001b[0m\n",
            "\u001b[2K     \u001b[90m━━━━━━━━━━━━━━━━━━━━━━━━━━━━━━━━━━━━━━━━\u001b[0m \u001b[32m58.3/58.3 KB\u001b[0m \u001b[31m7.5 MB/s\u001b[0m eta \u001b[36m0:00:00\u001b[0m\n",
            "\u001b[?25h  Building wheel for ffmpy (setup.py) ... \u001b[?25l\u001b[?25hdone\n",
            "  Building wheel for python-multipart (setup.py) ... \u001b[?25l\u001b[?25hdone\n"
          ]
        }
      ]
    },
    {
      "cell_type": "code",
      "source": [
        "import gradio as gr\n",
        "\n",
        "interface = gr.Interface(fn=score_comment, \n",
        "                         inputs=gr.inputs.Textbox(lines=2, placeholder='Comment to score'),\n",
        "                        outputs='text')"
      ],
      "metadata": {
        "id": "0bXSPbgNdGO9"
      },
      "execution_count": null,
      "outputs": []
    },
    {
      "cell_type": "code",
      "source": [
        "interface.launch(share=True)"
      ],
      "metadata": {
        "colab": {
          "base_uri": "https://localhost:8080/",
          "height": 591
        },
        "id": "uPsmswQ0djN2",
        "outputId": "83cc53e2-558d-4230-cc71-b7a56bb82b5a"
      },
      "execution_count": null,
      "outputs": [
        {
          "output_type": "stream",
          "name": "stdout",
          "text": [
            "Colab notebook detected. To show errors in colab notebook, set debug=True in launch()\n",
            "Running on public URL: https://1df06019-0455-4552.gradio.live\n",
            "\n",
            "This share link expires in 72 hours. For free permanent hosting and GPU upgrades (NEW!), check out Spaces: https://huggingface.co/spaces\n"
          ]
        },
        {
          "output_type": "display_data",
          "data": {
            "text/plain": [
              "<IPython.core.display.HTML object>"
            ],
            "text/html": [
              "<div><iframe src=\"https://1df06019-0455-4552.gradio.live\" width=\"100%\" height=\"500\" allow=\"autoplay; camera; microphone; clipboard-read; clipboard-write;\" frameborder=\"0\" allowfullscreen></iframe></div>"
            ]
          },
          "metadata": {}
        },
        {
          "output_type": "execute_result",
          "data": {
            "text/plain": []
          },
          "metadata": {},
          "execution_count": 22
        }
      ]
    }
  ]
}